{
 "cells": [
  {
   "cell_type": "code",
   "execution_count": 16,
   "metadata": {},
   "outputs": [],
   "source": [
    "import urllib.request\n",
    "from bs4 import BeautifulSoup\n",
    "import pandas as pd\n",
    "import matplotlib as mlt\n",
    "import matplotlib.pyplot as plt\n",
    "import matplotlib.font_manager as fm\n",
    "mlt.rc(\"font\", family = \"NanumBarunGothic\")\n",
    "%matplotlib inline"
   ]
  },
  {
   "cell_type": "code",
   "execution_count": 11,
   "metadata": {},
   "outputs": [],
   "source": [
    "class Review():\n",
    "    def __init__(self, comment, date, star, good, bad):\n",
    "        self.comment = comment\n",
    "        self.date = date\n",
    "        self.star = star\n",
    "        self.good = good\n",
    "        self.bad = bad\n",
    "        \n",
    "    def show(self):\n",
    "        print(\"내용: \" + self.comment\n",
    "             +\"\\n날짜: \" + self.date\n",
    "             +\"\\n별점: \" + self.star\n",
    "             +\"\\n좋아요: \" + self.good\n",
    "             +\"\\n싫어요: \" + self.bad)\n",
    "\n",
    "def crawl(url):\n",
    "    soup = BeautifulSoup(urllib.request.urlopen(url).read(), 'html.parser')\n",
    "    review_list = []\n",
    "    title = soup.find(\"h3\", class_=\"h_movie\").find(\"a\").text\n",
    "    div = soup.find(\"div\", class_=\"score_result\")\n",
    "    data_list = div.select(\"ul > li\")\n",
    "        \n",
    "    for review in data_list:\n",
    "        star = review.find(\"div\", class_=\"star_score\").text.strip()\n",
    "        reply = review.find(\"div\", class_=\"score_reple\")\n",
    "        comment = reply.find(\"p\").text\n",
    "        date = reply.select(\"dt > em\")[1].text.strip()\n",
    "        button = review.find(\"div\", class_=\"btn_area\")\n",
    "        sympathy = button.select(\"strong > span\")\n",
    "        good = sympathy[0].text\n",
    "        bad = sympathy[1].text\n",
    "        review_list.append(Review(comment, date, star, good, bad)) \n",
    "        \n",
    "    return title, review_list       "
   ]
  },
  {
   "cell_type": "code",
   "execution_count": 12,
   "metadata": {},
   "outputs": [],
   "source": [
    "def get_summary(review_list):\n",
    "    star_list = []\n",
    "    good_list = []\n",
    "    bad_list = []\n",
    "    \n",
    "    for review in review_list:\n",
    "        star_list.append(int(review.star))\n",
    "        good_list.append(int(review.good))\n",
    "        bad_list.append(int(review.bad))\n",
    "    \n",
    "    star_series = pd.Series(star_list)\n",
    "    good_series = pd.Series(good_list)\n",
    "    bad_series = pd.Series(bad_list)\n",
    "    \n",
    "    summary = pd.DataFrame({\"star\" : star_series, \"good\" : good_series, \"bad\" : bad_series, \"score\" : good_series / (good_series + bad_series)})\n",
    "    return summary"
   ]
  },
  {
   "cell_type": "code",
   "execution_count": 13,
   "metadata": {},
   "outputs": [
    {
     "name": "stdout",
     "output_type": "stream",
     "text": [
      "제목: 조커\n",
      "   star   good   bad     score\n",
      "0    10  16423   549  0.967653\n",
      "1    10  10307  1108  0.902935\n",
      "2    10   8946   516  0.945466\n",
      "3    10   6780   290  0.958982\n",
      "4    10   6719   342  0.951565\n",
      "제목: 어벤져스: 엔드게임\n",
      "   star   good  bad     score\n",
      "0    10  22672  638  0.972630\n",
      "1    10  14937  421  0.972588\n",
      "2    10  14548  451  0.969931\n",
      "3    10  12520  519  0.960196\n",
      "4    10  11298  409  0.965064\n",
      "제목: 스파이더맨: 파 프롬 홈\n",
      "   star  good  bad     score\n",
      "0    10  6396  328  0.951220\n",
      "1     8  5470  712  0.884827\n",
      "2     9  4629  166  0.965381\n",
      "3    10  3951  304  0.928555\n",
      "4    10  3726  124  0.967792\n",
      "제목: 기생충\n",
      "   star   good   bad     score\n",
      "0    10  23695  1273  0.949015\n",
      "1    10  15802  1305  0.923715\n",
      "2    10  14290   913  0.939946\n",
      "3    10  13870   810  0.944823\n",
      "4    10  12687   707  0.947215\n",
      "제목: 토이 스토리 4\n",
      "   star  good  bad     score\n",
      "0    10  3961  138  0.966333\n",
      "1    10  2510  113  0.956920\n",
      "2    10  2204   39  0.982613\n",
      "3     7  1912  186  0.911344\n",
      "4     8  1548   54  0.966292\n"
     ]
    }
   ],
   "source": [
    "movie_code_list = [167613, 136900, 173123, 161967, 101966]\n",
    "\n",
    "review_lists = []\n",
    "for i in movie_code_list:\n",
    "    title, review_list = crawl(\"https://movie.naver.com/movie/bi/mi/basic.nhn?code=\" + str(i) +\"#tab\")\n",
    "    summary = get_summary(review_list)\n",
    "    print(\"제목: \" + title)\n",
    "    print(summary)\n",
    "    review_lists.append((title, review_list))"
   ]
  },
  {
   "cell_type": "code",
   "execution_count": 22,
   "metadata": {},
   "outputs": [
    {
     "data": {
      "image/png": "[encoded data removed]",
      "text/plain": [
       "<Figure size 432x288 with 1 Axes>"
      ]
     },
     "metadata": {
      "needs_background": "light"
     },
     "output_type": "display_data"
    }
   ],
   "source": [
    "font_path = \"C:/Program Files (x86)/Naver/NanumFont/NanumBarunGothic.ttf\"\n",
    "fontprop = fm.FontProperties(fname = font_path, size = 18)\n",
    "def movie_compare(review_lists):\n",
    "    X = []\n",
    "    Y = []\n",
    "    count = 1\n",
    "    for movie, review_list in review_lists:\n",
    "        X.append(count)\n",
    "        summary = get_summary(review_list)\n",
    "        summary = summary[summary[\"score\"] > 0.8]\n",
    "        Y.append(summary[\"star\"].mean())\n",
    "        count += 1\n",
    "    plt.bar(X,Y)\n",
    "    plt.title(\"영화 별점 비교\", fontproperties =fontprop)\n",
    "    plt.xlabel(\"영화번호\", fontproperties = fontprop)\n",
    "    plt.ylabel(\"신뢰성 별점 평균\", fontproperties = fontprop)\n",
    "    plt.show()\n",
    "    \n",
    "movie_compare(review_lists)"
   ]
  },
  {
   "cell_type": "code",
   "execution_count": null,
   "metadata": {},
   "outputs": [],
   "source": []
  }
 ],
 "metadata": {
  "kernelspec": {
   "display_name": "Python 3",
   "language": "python",
   "name": "python3"
  },
  "language_info": {
   "codemirror_mode": {
    "name": "ipython",
    "version": 3
   },
   "file_extension": ".py",
   "mimetype": "text/x-python",
   "name": "python",
   "nbconvert_exporter": "python",
   "pygments_lexer": "ipython3",
   "version": "3.7.3"
  }
 },
 "nbformat": 4,
 "nbformat_minor": 2
}
