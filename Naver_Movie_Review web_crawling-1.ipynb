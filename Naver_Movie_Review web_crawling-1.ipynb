{
 "cells": [
  {
   "cell_type": "code",
   "execution_count": 3,
   "metadata": {},
   "outputs": [],
   "source": [
    "import urllib.request\n",
    "from bs4 import BeautifulSoup"
   ]
  },
  {
   "cell_type": "code",
   "execution_count": 4,
   "metadata": {},
   "outputs": [],
   "source": [
    "class Review():\n",
    "    def __init__(self, comment, date, star, good, bad):\n",
    "        self.comment = comment\n",
    "        self.date = date\n",
    "        self.star = star\n",
    "        self.good = good\n",
    "        self.bad = bad\n",
    "        \n",
    "    def show(self):\n",
    "        print(\"내용: \" + self.comment\n",
    "             +\"\\n날짜: \" + self.date\n",
    "             +\"\\n별점: \" + self.star\n",
    "             +\"\\n좋아요: \" + self.good\n",
    "             +\"\\n싫어요: \" + self.bad)\n",
    "\n",
    "def crawl(url):\n",
    "    soup = BeautifulSoup(urllib.request.urlopen(url).read(), 'html.parser')\n",
    "    review_list = []\n",
    "    title = soup.find(\"h3\", class_=\"h_movie\").find(\"a\").text\n",
    "    div = soup.find(\"div\", class_=\"score_result\")\n",
    "    data_list = div.select(\"ul > li\")\n",
    "        \n",
    "    for review in data_list:\n",
    "        star = review.find(\"div\", class_=\"star_score\").text.strip()\n",
    "        reply = review.find(\"div\", class_=\"score_reple\")\n",
    "        comment = reply.find(\"p\").text\n",
    "        date = reply.select(\"dt > em\")[1].text.strip()\n",
    "        button = review.find(\"div\", class_=\"btn_area\")\n",
    "        sympathy = button.select(\"strong > span\")\n",
    "        good = sympathy[0].text\n",
    "        bad = sympathy[1].text\n",
    "        review_list.append(Review(comment, date, star, good, bad)) \n",
    "        \n",
    "    return title, review_list       "
   ]
  },
  {
   "cell_type": "code",
   "execution_count": 5,
   "metadata": {},
   "outputs": [
    {
     "name": "stdout",
     "output_type": "stream",
     "text": [
      "제목: 조커\n",
      "내용: 착하게 사는것은 높은 계단을 오르는것과 같지만 포기하고 내려갈때는 너무나도 빠르고 즐겁다.  \n",
      "날짜: 2019.10.02 12:54\n",
      "별점: 10\n",
      "좋아요: 14492\n",
      "싫어요: 453\n",
      "내용: 하여간 역대 조커들은 너무 완벽해. 시저 로메로, 잭니콜슨, 로저 스톤버너, 히스레저, 박명수, 호아킨 피닉스..  \n",
      "날짜: 2019.10.02 10:27\n",
      "별점: 10\n",
      "좋아요: 9497\n",
      "싫어요: 1021\n",
      "내용: 명작들만 골라서 번역하는 박지훈이야말로 이시대의 조커 아닐까?  \n",
      "날짜: 2019.10.02 11:51\n",
      "별점: 10\n",
      "좋아요: 8231\n",
      "싫어요: 467\n",
      "내용: 조커 분장 후 계단씬 지린다..  \n",
      "날짜: 2019.10.02 09:02\n",
      "별점: 10\n",
      "좋아요: 6058\n",
      "싫어요: 256\n",
      "내용: 마블은 10년간 공들여 만든 \"타노스\"로 관객을 열광시키고 DC는 10년간 똥을 싸도 \"조커\" 하나로 다시 부활한다.  \n",
      "날짜: 2019.10.02 14:23\n",
      "별점: 10\n",
      "좋아요: 5998\n",
      "싫어요: 307\n",
      "<__main__.Review object at 0x000001BFB1E6CAC8>\n"
     ]
    }
   ],
   "source": [
    "title, review_list = crawl(\"https://movie.naver.com/movie/bi/mi/basic.nhn?code=167613\")\n",
    "print(\"제목: \" + title)\n",
    "for review in review_list:\n",
    "    review.show()"
   ]
  },
  {
   "cell_type": "code",
   "execution_count": null,
   "metadata": {},
   "outputs": [],
   "source": []
  }
 ],
 "metadata": {
  "kernelspec": {
   "display_name": "Python 3",
   "language": "python",
   "name": "python3"
  },
  "language_info": {
   "codemirror_mode": {
    "name": "ipython",
    "version": 3
   },
   "file_extension": ".py",
   "mimetype": "text/x-python",
   "name": "python",
   "nbconvert_exporter": "python",
   "pygments_lexer": "ipython3",
   "version": "3.7.3"
  }
 },
 "nbformat": 4,
 "nbformat_minor": 2
}
